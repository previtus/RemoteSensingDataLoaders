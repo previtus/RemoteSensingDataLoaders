{
 "cells": [
  {
   "cell_type": "markdown",
   "id": "2e59307f-f676-4fc4-9b12-ff289bf2ab03",
   "metadata": {},
   "source": [
    "# Isolated data loaders"
   ]
  },
  {
   "cell_type": "code",
   "execution_count": 1,
   "id": "fd4dd1f7-df7f-4288-9dcc-71e5ec43aa8b",
   "metadata": {},
   "outputs": [
    {
     "name": "stderr",
     "output_type": "stream",
     "text": [
      "/opt/conda/envs/mlenv/lib/python3.7/site-packages/tqdm/auto.py:22: TqdmWarning: IProgress not found. Please update jupyter and ipywidgets. See https://ipywidgets.readthedocs.io/en/stable/user_install.html\n",
      "  from .autonotebook import tqdm as notebook_tqdm\n"
     ]
    }
   ],
   "source": [
    "import sys\n",
    "from data_functions import *"
   ]
  },
  {
   "cell_type": "code",
   "execution_count": 2,
   "id": "7beb2524-3440-472e-bcd3-86fc39dc4124",
   "metadata": {},
   "outputs": [
    {
     "name": "stdout",
     "output_type": "stream",
     "text": [
      "2018-10-17.tif\t2018-10-22.tif\t2018-10-27.tif\t2018-11-06.tif\t2018-12-06.tif\n"
     ]
    }
   ],
   "source": [
    "!ls ../data/fires/fire_camp/S2/"
   ]
  },
  {
   "cell_type": "code",
   "execution_count": 3,
   "id": "d82439ff",
   "metadata": {},
   "outputs": [],
   "source": [
    "# import omegaconf\n",
    "# settings = omegaconf.OmegaConf.load(\"../starcop/configs/config.yaml\")\n",
    "# print(settings)"
   ]
  },
  {
   "cell_type": "code",
   "execution_count": 4,
   "id": "3d530869-187a-473c-9f09-d1e0bc380b6f",
   "metadata": {},
   "outputs": [
    {
     "name": "stdout",
     "output_type": "stream",
     "text": [
      "{'dataloader': {'batch_size': 32, 'num_workers': 4}, 'dataset': {'data_base_path': '../data/fires/fire_camp/S2/', 'tile_px_size': 32, 'tile_overlap_px': 0, 'include_last_row_colum_extra_tile': False}}\n"
     ]
    }
   ],
   "source": [
    "settings = {'dataloader': {'batch_size': 32, 'num_workers': 4}, \n",
    "            'dataset': {\n",
    "                'data_base_path': '../data/fires/fire_camp/S2/', \n",
    "                'tile_px_size': 32,\n",
    "                'tile_overlap_px': 0,\n",
    "                'include_last_row_colum_extra_tile': False,\n",
    "             }\n",
    "           }\n",
    "print(settings)"
   ]
  },
  {
   "cell_type": "code",
   "execution_count": 5,
   "id": "ae3e7d0e-08b3-4154-b0bf-95b4ac21f682",
   "metadata": {},
   "outputs": [
    {
     "name": "stdout",
     "output_type": "stream",
     "text": [
      "0 ../data/fires/fire_camp/S2/2018-10-17.tif loaded 1725 tiles.\n",
      "1 ../data/fires/fire_camp/S2/2018-10-22.tif loaded 1725 tiles.\n",
      "2 ../data/fires/fire_camp/S2/2018-10-27.tif loaded 1725 tiles.\n",
      "3 ../data/fires/fire_camp/S2/2018-11-06.tif loaded 1725 tiles.\n",
      "4 ../data/fires/fire_camp/S2/2018-12-06.tif loaded 1725 tiles.\n",
      "Loaded: 8625 total tile indices\n"
     ]
    }
   ],
   "source": [
    "tiles = load_all_tile_indices_from_folder(settings[\"dataset\"])"
   ]
  },
  {
   "cell_type": "code",
   "execution_count": 6,
   "id": "e6352957-1df5-4c9a-a9c2-beebd40a436f",
   "metadata": {},
   "outputs": [
    {
     "name": "stdout",
     "output_type": "stream",
     "text": [
      "(15, 32, 32)\n"
     ]
    }
   ],
   "source": [
    "x = load_tile_idx(tiles[5], settings[\"dataset\"])\n",
    "print(x.shape,)"
   ]
  },
  {
   "cell_type": "code",
   "execution_count": 7,
   "id": "00ed44c4-7dae-41ea-89a6-0e77bdfe2b82",
   "metadata": {},
   "outputs": [
    {
     "name": "stdout",
     "output_type": "stream",
     "text": [
      "train, test, val: 6900 863 862\n",
      "made the dataloader\n"
     ]
    }
   ],
   "source": [
    "train_ratio = 0.80\n",
    "validation_ratio = 0.10\n",
    "test_ratio = 0.10\n",
    "\n",
    "tiles_train, tiles_rest = train_test_split(tiles, test_size=1 - train_ratio)\n",
    "tiles_val, tiles_test = train_test_split(tiles_rest, test_size=test_ratio/(test_ratio + validation_ratio)) \n",
    "\n",
    "print(\"train, test, val:\",len(tiles_train), len(tiles_test), len(tiles_val))\n",
    "\n",
    "training_data = TileDataset(tiles_train, settings[\"dataset\"])\n",
    "test_data = TileDataset(tiles_test, settings[\"dataset\"])\n",
    "val_data = TileDataset(tiles_val, settings[\"dataset\"])\n",
    "\n",
    "train_dataloader = DataLoader(training_data, batch_size=settings[\"dataloader\"][\"batch_size\"], shuffle=True, num_workers=settings[\"dataloader\"][\"num_workers\"])\n",
    "test_dataloader = DataLoader(test_data, batch_size=settings[\"dataloader\"][\"batch_size\"], shuffle=True, num_workers=settings[\"dataloader\"][\"num_workers\"])\n",
    "val_dataloader = DataLoader(val_data, batch_size=settings[\"dataloader\"][\"batch_size\"], shuffle=True, num_workers=settings[\"dataloader\"][\"num_workers\"])\n",
    "\n",
    "print(\"made the dataloader\")"
   ]
  },
  {
   "cell_type": "code",
   "execution_count": 21,
   "id": "92e46cdc-bb72-40bb-b7b9-75ac21803220",
   "metadata": {},
   "outputs": [
    {
     "name": "stdout",
     "output_type": "stream",
     "text": [
      "Feature batch shape: torch.Size([32, 15, 32, 32])\n",
      "img shape: (32, 32, 3)\n"
     ]
    },
    {
     "data": {
      "image/png": "[encoded data removed]",
      "text/plain": [
       "<Figure size 432x288 with 1 Axes>"
      ]
     },
     "metadata": {
      "needs_background": "light"
     },
     "output_type": "display_data"
    }
   ],
   "source": [
    "from pylab import plt\n",
    "# Display image and label.\n",
    "train_features = next(iter(train_dataloader))\n",
    "print(f\"Feature batch shape: {train_features.size()}\")\n",
    "\n",
    "img_all_bands = train_features[0]\n",
    "img = img_all_bands[0:3,:,:]\n",
    "\n",
    "img = np.moveaxis(img.numpy(), 0, -1)\n",
    "print(f\"img shape: {img.shape}\")\n",
    "\n",
    "figure = plt.figure()\n",
    "plt.axis(\"off\")\n",
    "plt.imshow(np.clip(img / np.max(img),0,1))\n",
    "\n",
    "plt.show()"
   ]
  },
  {
   "cell_type": "markdown",
   "id": "e1835fb6-b82a-4b6d-93a3-40db8af718ab",
   "metadata": {},
   "source": [
    "# Full data module"
   ]
  },
  {
   "cell_type": "code",
   "execution_count": 1,
   "id": "f04ddcdb-e336-45c8-afc3-0b79f7ab5494",
   "metadata": {},
   "outputs": [
    {
     "name": "stderr",
     "output_type": "stream",
     "text": [
      "/opt/conda/envs/mlenv/lib/python3.7/site-packages/tqdm/auto.py:22: TqdmWarning: IProgress not found. Please update jupyter and ipywidgets. See https://ipywidgets.readthedocs.io/en/stable/user_install.html\n",
      "  from .autonotebook import tqdm as notebook_tqdm\n"
     ]
    },
    {
     "name": "stdout",
     "output_type": "stream",
     "text": [
      "{'dataloader': {'batch_size': 100, 'num_workers': 4, 'train_ratio': 0.8, 'validation_ratio': 0.1, 'test_ratio': 0.1}, 'dataset': {'data_base_path': '../data/fires/fire_camp/S2/', 'tile_px_size': 32, 'tile_overlap_px': 0, 'include_last_row_colum_extra_tile': False, 'normalization_precalculated_file': 'S2L1C_v0_normalization_parameters.csv'}, 'normalizer': <class 'data_functions.DataNormalizerMinMax'>}\n"
     ]
    }
   ],
   "source": [
    "import sys\n",
    "from data_functions import *\n",
    "\n",
    "settings = {'dataloader': {\n",
    "                'batch_size': 100, \n",
    "                'num_workers': 4,\n",
    "                'train_ratio': 0.80,\n",
    "                'validation_ratio': 0.10,\n",
    "                'test_ratio': 0.10,\n",
    "            },\n",
    "            'dataset': {\n",
    "                'data_base_path': '../data/fires/fire_camp/S2/', \n",
    "                'tile_px_size': 32,\n",
    "                'tile_overlap_px': 0,\n",
    "                'include_last_row_colum_extra_tile': False,\n",
    "                # 'normalization_precalculated_file': \"\",\n",
    "                'normalization_precalculated_file': \"S2L1C_v0_normalization_parameters.csv\",\n",
    "             },\n",
    "            # 'normalizer': DataNormalizerLogManual,\n",
    "            'normalizer': DataNormalizerMinMax,\n",
    "           }\n",
    "print(settings)"
   ]
  },
  {
   "cell_type": "code",
   "execution_count": 2,
   "id": "d498c9d1-4f84-49d1-b460-5047caaab6bd",
   "metadata": {},
   "outputs": [
    {
     "name": "stdout",
     "output_type": "stream",
     "text": [
      "loaded data_normalizer\n",
      "0 ../data/fires/fire_camp/S2/2018-10-17.tif loaded 1725 tiles.\n",
      "1 ../data/fires/fire_camp/S2/2018-10-22.tif loaded 1725 tiles.\n",
      "2 ../data/fires/fire_camp/S2/2018-10-27.tif loaded 1725 tiles.\n",
      "3 ../data/fires/fire_camp/S2/2018-11-06.tif loaded 1725 tiles.\n",
      "4 ../data/fires/fire_camp/S2/2018-12-06.tif loaded 1725 tiles.\n",
      "Loaded: 8625 total tile indices\n",
      "Altogether we have 8625 tiles.\n",
      "train, test, val: 6900 863 862\n"
     ]
    }
   ],
   "source": [
    "data_normalizer = settings[\"normalizer\"](settings)\n",
    "print(\"loaded data_normalizer\")\n",
    "\n",
    "data_module = DataModule(settings, data_normalizer)\n",
    "data_module.setup()\n",
    "data_normalizer.setup(data_module)\n"
   ]
  },
  {
   "cell_type": "code",
   "execution_count": 3,
   "id": "896555fe-3f6a-44b2-a61a-7ad9c4368f89",
   "metadata": {},
   "outputs": [
    {
     "name": "stdout",
     "output_type": "stream",
     "text": [
      "Dataset debug:\n",
      "train 6900  tiles\n",
      "val 862  tiles\n",
      "test 863  tiles\n",
      "Sample data:\n",
      "x shapes: torch.Size([15, 32, 32])\n",
      "debug for normalizer (DataNormalizerMinMax)\n",
      "[x]\n",
      "before 0.5704918 0.7934426 0.70112705\n",
      "was normalized, will denormalize and go back\n",
      "denormalized 1214.0 1282.0 1253.8438\n",
      "normalized again 0.5704918 0.7934426 0.70112705\n",
      "\n",
      "x shapes: torch.Size([15, 32, 32])\n",
      "debug for normalizer (DataNormalizerMinMax)\n",
      "[x]\n",
      "before 0.47540984 1.252459 0.7306864\n",
      "was normalized, will denormalize and go back\n",
      "denormalized 1185.0 1422.0 1262.8594\n",
      "normalized again 0.47540984 1.252459 0.7306864\n",
      "\n",
      "x shapes: torch.Size([15, 32, 32])\n",
      "debug for normalizer (DataNormalizerMinMax)\n",
      "[x]\n",
      "before 0.8819672 1.1672131 1.0016136\n",
      "was normalized, will denormalize and go back\n",
      "denormalized 1309.0 1396.0 1345.4922\n",
      "normalized again 0.8819672 1.1672131 1.0016136\n",
      "\n",
      "x shapes: torch.Size([15, 32, 32])\n",
      "debug for normalizer (DataNormalizerMinMax)\n",
      "[x]\n",
      "before 0.009836066 0.2852459 0.14364755\n",
      "was normalized, will denormalize and go back\n",
      "denormalized 1043.0 1127.0 1083.8125\n",
      "normalized again 0.009836066 0.2852459 0.14364755\n",
      "\n",
      "x shapes: torch.Size([15, 32, 32])\n",
      "debug for normalizer (DataNormalizerMinMax)\n",
      "[x]\n",
      "before 0.38360655 0.7508197 0.5401255\n",
      "was normalized, will denormalize and go back\n",
      "denormalized 1157.0 1269.0 1204.7383\n",
      "normalized again 0.38360655 0.7508197 0.5401255\n",
      "\n"
     ]
    }
   ],
   "source": [
    "data_module.debug()"
   ]
  },
  {
   "cell_type": "markdown",
   "id": "a36a5dfa-c08f-432c-83bd-60f86496761b",
   "metadata": {},
   "source": [
    "## for normalization fitting ..."
   ]
  },
  {
   "cell_type": "code",
   "execution_count": 13,
   "id": "6d8382fa-2429-4b39-8dfb-3a9729a85b91",
   "metadata": {},
   "outputs": [
    {
     "name": "stdout",
     "output_type": "stream",
     "text": [
      "loaded torch.Size([100, 15, 32, 32])\n",
      "all_data torch.Size([100, 15, 32, 32])\n",
      "loaded torch.Size([100, 15, 32, 32])\n",
      "all_data (200, 15, 32, 32)\n",
      "loaded torch.Size([100, 15, 32, 32])\n",
      "all_data (300, 15, 32, 32)\n",
      "loaded torch.Size([100, 15, 32, 32])\n",
      "all_data (400, 15, 32, 32)\n",
      "loaded torch.Size([100, 15, 32, 32])\n",
      "all_data (500, 15, 32, 32)\n",
      "loaded torch.Size([100, 15, 32, 32])\n",
      "all_data (600, 15, 32, 32)\n",
      "loaded torch.Size([100, 15, 32, 32])\n",
      "all_data (700, 15, 32, 32)\n",
      "loaded torch.Size([100, 15, 32, 32])\n",
      "all_data (800, 15, 32, 32)\n",
      "loaded torch.Size([100, 15, 32, 32])\n",
      "all_data (900, 15, 32, 32)\n",
      "loaded torch.Size([100, 15, 32, 32])\n",
      "all_data (1000, 15, 32, 32)\n",
      "loaded torch.Size([100, 15, 32, 32])\n",
      "all_data (1100, 15, 32, 32)\n",
      "loaded torch.Size([100, 15, 32, 32])\n",
      "all_data (1200, 15, 32, 32)\n",
      "loaded torch.Size([100, 15, 32, 32])\n",
      "all_data (1300, 15, 32, 32)\n",
      "loaded torch.Size([100, 15, 32, 32])\n",
      "all_data (1400, 15, 32, 32)\n",
      "loaded torch.Size([100, 15, 32, 32])\n",
      "all_data (1500, 15, 32, 32)\n",
      "loaded torch.Size([100, 15, 32, 32])\n",
      "all_data (1600, 15, 32, 32)\n",
      "loaded torch.Size([100, 15, 32, 32])\n",
      "all_data (1700, 15, 32, 32)\n",
      "loaded torch.Size([100, 15, 32, 32])\n",
      "all_data (1800, 15, 32, 32)\n",
      "loaded torch.Size([100, 15, 32, 32])\n",
      "all_data (1900, 15, 32, 32)\n",
      "loaded torch.Size([100, 15, 32, 32])\n",
      "all_data (2000, 15, 32, 32)\n",
      "loaded torch.Size([100, 15, 32, 32])\n",
      "all_data (2100, 15, 32, 32)\n",
      "loaded torch.Size([100, 15, 32, 32])\n",
      "all_data (2200, 15, 32, 32)\n",
      "loaded torch.Size([100, 15, 32, 32])\n",
      "all_data (2300, 15, 32, 32)\n",
      "loaded torch.Size([100, 15, 32, 32])\n",
      "all_data (2400, 15, 32, 32)\n",
      "loaded torch.Size([100, 15, 32, 32])\n",
      "all_data (2500, 15, 32, 32)\n",
      "loaded torch.Size([100, 15, 32, 32])\n",
      "all_data (2600, 15, 32, 32)\n",
      "loaded torch.Size([100, 15, 32, 32])\n",
      "all_data (2700, 15, 32, 32)\n",
      "loaded torch.Size([100, 15, 32, 32])\n",
      "all_data (2800, 15, 32, 32)\n",
      "loaded torch.Size([100, 15, 32, 32])\n",
      "all_data (2900, 15, 32, 32)\n",
      "loaded torch.Size([100, 15, 32, 32])\n",
      "all_data (3000, 15, 32, 32)\n",
      "loaded torch.Size([100, 15, 32, 32])\n",
      "all_data (3100, 15, 32, 32)\n",
      "loaded torch.Size([100, 15, 32, 32])\n",
      "all_data (3200, 15, 32, 32)\n",
      "loaded torch.Size([100, 15, 32, 32])\n",
      "all_data (3300, 15, 32, 32)\n",
      "loaded torch.Size([100, 15, 32, 32])\n",
      "all_data (3400, 15, 32, 32)\n",
      "loaded torch.Size([100, 15, 32, 32])\n",
      "all_data (3500, 15, 32, 32)\n",
      "loaded torch.Size([100, 15, 32, 32])\n",
      "all_data (3600, 15, 32, 32)\n",
      "loaded torch.Size([100, 15, 32, 32])\n",
      "all_data (3700, 15, 32, 32)\n",
      "loaded torch.Size([100, 15, 32, 32])\n",
      "all_data (3800, 15, 32, 32)\n",
      "loaded torch.Size([100, 15, 32, 32])\n",
      "all_data (3900, 15, 32, 32)\n",
      "loaded torch.Size([100, 15, 32, 32])\n",
      "all_data (4000, 15, 32, 32)\n",
      "loaded torch.Size([100, 15, 32, 32])\n",
      "all_data (4100, 15, 32, 32)\n",
      "loaded torch.Size([100, 15, 32, 32])\n",
      "all_data (4200, 15, 32, 32)\n",
      "loaded torch.Size([100, 15, 32, 32])\n",
      "all_data (4300, 15, 32, 32)\n",
      "loaded torch.Size([100, 15, 32, 32])\n",
      "all_data (4400, 15, 32, 32)\n",
      "loaded torch.Size([100, 15, 32, 32])\n",
      "all_data (4500, 15, 32, 32)\n",
      "loaded torch.Size([100, 15, 32, 32])\n",
      "all_data (4600, 15, 32, 32)\n",
      "loaded torch.Size([100, 15, 32, 32])\n",
      "all_data (4700, 15, 32, 32)\n",
      "loaded torch.Size([100, 15, 32, 32])\n",
      "all_data (4800, 15, 32, 32)\n",
      "loaded torch.Size([100, 15, 32, 32])\n",
      "all_data (4900, 15, 32, 32)\n",
      "loaded torch.Size([100, 15, 32, 32])\n",
      "all_data (5000, 15, 32, 32)\n",
      "loaded torch.Size([100, 15, 32, 32])\n",
      "all_data (5100, 15, 32, 32)\n",
      "loaded torch.Size([100, 15, 32, 32])\n",
      "all_data (5200, 15, 32, 32)\n",
      "loaded torch.Size([100, 15, 32, 32])\n",
      "all_data (5300, 15, 32, 32)\n",
      "loaded torch.Size([100, 15, 32, 32])\n",
      "all_data (5400, 15, 32, 32)\n",
      "loaded torch.Size([100, 15, 32, 32])\n",
      "all_data (5500, 15, 32, 32)\n",
      "loaded torch.Size([100, 15, 32, 32])\n",
      "all_data (5600, 15, 32, 32)\n",
      "loaded torch.Size([100, 15, 32, 32])\n",
      "all_data (5700, 15, 32, 32)\n",
      "loaded torch.Size([100, 15, 32, 32])\n",
      "all_data (5800, 15, 32, 32)\n",
      "loaded torch.Size([100, 15, 32, 32])\n",
      "all_data (5900, 15, 32, 32)\n",
      "loaded torch.Size([100, 15, 32, 32])\n",
      "all_data (6000, 15, 32, 32)\n",
      "loaded torch.Size([100, 15, 32, 32])\n",
      "all_data (6100, 15, 32, 32)\n",
      "loaded torch.Size([100, 15, 32, 32])\n",
      "all_data (6200, 15, 32, 32)\n",
      "loaded torch.Size([100, 15, 32, 32])\n",
      "all_data (6300, 15, 32, 32)\n",
      "loaded torch.Size([100, 15, 32, 32])\n",
      "all_data (6400, 15, 32, 32)\n",
      "loaded torch.Size([100, 15, 32, 32])\n",
      "all_data (6500, 15, 32, 32)\n",
      "loaded torch.Size([100, 15, 32, 32])\n",
      "all_data (6600, 15, 32, 32)\n",
      "loaded torch.Size([100, 15, 32, 32])\n",
      "all_data (6700, 15, 32, 32)\n",
      "loaded torch.Size([100, 15, 32, 32])\n",
      "all_data (6800, 15, 32, 32)\n",
      "loaded torch.Size([100, 15, 32, 32])\n",
      "all_data (6900, 15, 32, 32)\n",
      "estimate_from_data of shape (B, C, H, W):\n",
      "(100, 15, 32, 32)\n",
      "Band 000 min, max, mean (nan, nan, nan)\n",
      "     000 min, max, mean (0.0, 1.0, 0.42343968)\n",
      "Band 001 min, max, mean (nan, nan, nan)\n",
      "     001 min, max, mean (0.0, 1.0, 0.41294965)\n",
      "Band 002 min, max, mean (nan, nan, nan)\n",
      "     002 min, max, mean (0.0, 1.0, 0.452297)\n",
      "Band 003 min, max, mean (nan, nan, nan)\n",
      "     003 min, max, mean (0.0, 1.0, 0.39678127)\n",
      "Band 004 min, max, mean (nan, nan, nan)\n",
      "     004 min, max, mean (0.0, 1.0, 0.45132643)\n",
      "Band 005 min, max, mean (nan, nan, nan)\n",
      "     005 min, max, mean (0.0, 1.0, 0.51592433)\n",
      "Band 006 min, max, mean (nan, nan, nan)\n",
      "     006 min, max, mean (0.0, 1.0, 0.51488584)\n",
      "Band 007 min, max, mean (nan, nan, nan)\n",
      "     007 min, max, mean (0.0, 1.0, 0.51066303)\n",
      "Band 008 min, max, mean (nan, nan, nan)\n",
      "     008 min, max, mean (0.0, 1.0, 0.51367223)\n",
      "Band 009 min, max, mean (nan, nan, nan)\n",
      "     009 min, max, mean (0.0, 1.0, 0.49009022)\n",
      "Band 010 min, max, mean (nan, nan, nan)\n",
      "     010 min, max, mean (0.0, 1.0, 0.2597623)\n",
      "Band 011 min, max, mean (nan, nan, nan)\n",
      "     011 min, max, mean (0.0, 1.0, 0.42693672)\n",
      "Band 012 min, max, mean (nan, nan, nan)\n",
      "     012 min, max, mean (0.0, 1.0, 0.38531455)\n",
      "Band 013 min, max, mean (nan, nan, nan)\n",
      "     013 min, max, mean (0.0, 1.0, 0.26311257)\n",
      "Band 014 min, max, mean (nan, nan, nan)\n",
      "     014 min, max, mean (0.0, 1.0, 0.297517)\n",
      "Estimated normalization parameters from a sample of data\n"
     ]
    }
   ],
   "source": [
    "train_dataloader = data_module.train_dataloader()\n",
    "\n",
    "all_data = []\n",
    "for x in train_dataloader:\n",
    "    print(\"loaded\", x.shape)\n",
    "    \n",
    "    all_data = np.vstack([all_data, x]) if len(all_data) else x\n",
    "    # print(\"all_data\", all_data.shape)\n",
    "\n",
    "    if len(all_data) > 1000:\n",
    "        break\n",
    "\n",
    "data_normalizer.estimate_from_data(x.numpy())\n",
    "normalization_parameters = data_normalizer.normalization_parameters"
   ]
  },
  {
   "cell_type": "code",
   "execution_count": 14,
   "id": "dd52086a-7aab-4b78-a2b0-ab0c2815de4d",
   "metadata": {},
   "outputs": [],
   "source": [
    "data_normalizer.save_normalization_parameters(\"S2L1C_v0_normalization_parameters.csv\")"
   ]
  },
  {
   "cell_type": "code",
   "execution_count": null,
   "id": "a2cf07be-9113-409e-a6ea-8d5ada754ede",
   "metadata": {},
   "outputs": [],
   "source": []
  }
 ],
 "metadata": {
  "interpreter": {
   "hash": "c4038aa99747c0c4dbfe4db85a51d097b1188e47384c1f579944e485817260d7"
  },
  "kernelspec": {
   "display_name": "Python 3 (ipykernel)",
   "language": "python",
   "name": "python3"
  },
  "language_info": {
   "codemirror_mode": {
    "name": "ipython",
    "version": 3
   },
   "file_extension": ".py",
   "mimetype": "text/x-python",
   "name": "python",
   "nbconvert_exporter": "python",
   "pygments_lexer": "ipython3",
   "version": "3.7.12"
  }
 },
 "nbformat": 4,
 "nbformat_minor": 5
}
