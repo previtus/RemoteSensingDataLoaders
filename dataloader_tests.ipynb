{
 "cells": [
  {
   "cell_type": "code",
   "execution_count": 1,
   "id": "fd4dd1f7-df7f-4288-9dcc-71e5ec43aa8b",
   "metadata": {},
   "outputs": [
    {
     "name": "stderr",
     "output_type": "stream",
     "text": [
      "/opt/conda/envs/mlenv/lib/python3.7/site-packages/tqdm/auto.py:22: TqdmWarning: IProgress not found. Please update jupyter and ipywidgets. See https://ipywidgets.readthedocs.io/en/stable/user_install.html\n",
      "  from .autonotebook import tqdm as notebook_tqdm\n"
     ]
    }
   ],
   "source": [
    "import sys\n",
    "from data_functions import *"
   ]
  },
  {
   "cell_type": "code",
   "execution_count": 2,
   "id": "7beb2524-3440-472e-bcd3-86fc39dc4124",
   "metadata": {},
   "outputs": [
    {
     "name": "stdout",
     "output_type": "stream",
     "text": [
      "2018-10-17.tif\t2018-10-22.tif\t2018-10-27.tif\t2018-11-06.tif\t2018-12-06.tif\n"
     ]
    }
   ],
   "source": [
    "!ls ../data/fires/fire_camp/S2/"
   ]
  },
  {
   "cell_type": "code",
   "execution_count": 3,
   "id": "d82439ff",
   "metadata": {},
   "outputs": [],
   "source": [
    "# import omegaconf\n",
    "# settings = omegaconf.OmegaConf.load(\"../starcop/configs/config.yaml\")\n",
    "# print(settings)"
   ]
  },
  {
   "cell_type": "code",
   "execution_count": 4,
   "id": "3d530869-187a-473c-9f09-d1e0bc380b6f",
   "metadata": {},
   "outputs": [
    {
     "name": "stdout",
     "output_type": "stream",
     "text": [
      "{'dataloader': {'batch_size': 32, 'num_workers': 4}, 'dataset': {'data_base_path': '../data/fires/fire_camp/S2/', 'tile_px_size': 32, 'tile_overlap_px': 0, 'include_last_row_colum_extra_tile': False}}\n"
     ]
    }
   ],
   "source": [
    "settings = {'dataloader': {'batch_size': 32, 'num_workers': 4}, \n",
    "            'dataset': {\n",
    "                'data_base_path': '../data/fires/fire_camp/S2/', \n",
    "                'tile_px_size': 32,\n",
    "                'tile_overlap_px': 0,\n",
    "                'include_last_row_colum_extra_tile': False,\n",
    "             }\n",
    "           }\n",
    "print(settings)"
   ]
  },
  {
   "cell_type": "code",
   "execution_count": 5,
   "id": "ae3e7d0e-08b3-4154-b0bf-95b4ac21f682",
   "metadata": {},
   "outputs": [
    {
     "name": "stdout",
     "output_type": "stream",
     "text": [
      "0 ../data/fires/fire_camp/S2/2018-10-17.tif loaded 1725 tiles.\n",
      "1 ../data/fires/fire_camp/S2/2018-10-22.tif loaded 1725 tiles.\n",
      "2 ../data/fires/fire_camp/S2/2018-10-27.tif loaded 1725 tiles.\n",
      "3 ../data/fires/fire_camp/S2/2018-11-06.tif loaded 1725 tiles.\n",
      "4 ../data/fires/fire_camp/S2/2018-12-06.tif loaded 1725 tiles.\n",
      "Loaded: 8625 total tile indices\n"
     ]
    }
   ],
   "source": [
    "tiles = load_all_tile_indices_from_folder(settings[\"dataset\"])"
   ]
  },
  {
   "cell_type": "code",
   "execution_count": 6,
   "id": "e6352957-1df5-4c9a-a9c2-beebd40a436f",
   "metadata": {},
   "outputs": [
    {
     "name": "stdout",
     "output_type": "stream",
     "text": [
      "(15, 32, 32)\n"
     ]
    }
   ],
   "source": [
    "x = load_tile_idx(tiles[5], settings[\"dataset\"])\n",
    "print(x.shape,)"
   ]
  },
  {
   "cell_type": "code",
   "execution_count": 7,
   "id": "00ed44c4-7dae-41ea-89a6-0e77bdfe2b82",
   "metadata": {},
   "outputs": [
    {
     "name": "stdout",
     "output_type": "stream",
     "text": [
      "train, test, val: 6900 863 862\n",
      "made the dataloader\n"
     ]
    }
   ],
   "source": [
    "train_ratio = 0.80\n",
    "validation_ratio = 0.10\n",
    "test_ratio = 0.10\n",
    "\n",
    "tiles_train, tiles_rest = train_test_split(tiles, test_size=1 - train_ratio)\n",
    "tiles_val, tiles_test = train_test_split(tiles_rest, test_size=test_ratio/(test_ratio + validation_ratio)) \n",
    "\n",
    "print(\"train, test, val:\",len(tiles_train), len(tiles_test), len(tiles_val))\n",
    "\n",
    "training_data = TileDataset(tiles_train, settings[\"dataset\"])\n",
    "test_data = TileDataset(tiles_test, settings[\"dataset\"])\n",
    "val_data = TileDataset(tiles_val, settings[\"dataset\"])\n",
    "\n",
    "train_dataloader = DataLoader(training_data, batch_size=settings[\"dataloader\"][\"batch_size\"], shuffle=True, num_workers=settings[\"dataloader\"][\"num_workers\"])\n",
    "test_dataloader = DataLoader(test_data, batch_size=settings[\"dataloader\"][\"batch_size\"], shuffle=True, num_workers=settings[\"dataloader\"][\"num_workers\"])\n",
    "val_dataloader = DataLoader(val_data, batch_size=settings[\"dataloader\"][\"batch_size\"], shuffle=True, num_workers=settings[\"dataloader\"][\"num_workers\"])\n",
    "\n",
    "print(\"made the dataloader\")"
   ]
  },
  {
   "cell_type": "code",
   "execution_count": 21,
   "id": "92e46cdc-bb72-40bb-b7b9-75ac21803220",
   "metadata": {},
   "outputs": [
    {
     "name": "stdout",
     "output_type": "stream",
     "text": [
      "Feature batch shape: torch.Size([32, 15, 32, 32])\n",
      "img shape: (32, 32, 3)\n"
     ]
    },
    {
     "data": {
      "image/png": "[encoded data removed]",
      "text/plain": [
       "<Figure size 432x288 with 1 Axes>"
      ]
     },
     "metadata": {
      "needs_background": "light"
     },
     "output_type": "display_data"
    }
   ],
   "source": [
    "from pylab import plt\n",
    "# Display image and label.\n",
    "train_features = next(iter(train_dataloader))\n",
    "print(f\"Feature batch shape: {train_features.size()}\")\n",
    "\n",
    "img_all_bands = train_features[0]\n",
    "img = img_all_bands[0:3,:,:]\n",
    "\n",
    "img = np.moveaxis(img.numpy(), 0, -1)\n",
    "print(f\"img shape: {img.shape}\")\n",
    "\n",
    "figure = plt.figure()\n",
    "plt.axis(\"off\")\n",
    "plt.imshow(np.clip(img / np.max(img),0,1))\n",
    "\n",
    "plt.show()"
   ]
  }
 ],
 "metadata": {
  "interpreter": {
   "hash": "c4038aa99747c0c4dbfe4db85a51d097b1188e47384c1f579944e485817260d7"
  },
  "kernelspec": {
   "display_name": "Python 3 (ipykernel)",
   "language": "python",
   "name": "python3"
  },
  "language_info": {
   "codemirror_mode": {
    "name": "ipython",
    "version": 3
   },
   "file_extension": ".py",
   "mimetype": "text/x-python",
   "name": "python",
   "nbconvert_exporter": "python",
   "pygments_lexer": "ipython3",
   "version": "3.7.12"
  }
 },
 "nbformat": 4,
 "nbformat_minor": 5
}
